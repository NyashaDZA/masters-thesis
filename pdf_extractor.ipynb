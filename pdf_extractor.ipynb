{
 "cells": [
  {
   "cell_type": "markdown",
   "metadata": {},
   "source": [
    "Author: Nyasha Chigwaja"
   ]
  },
  {
   "cell_type": "markdown",
   "metadata": {},
   "source": [
    "### This notebook reads in university faculty handbooks in PDF format and creates a plot of the occurence of words related to the skills identified by the World  Economic Forum as essential for the 4th Industrial Revolution."
   ]
  },
  {
   "cell_type": "markdown",
   "metadata": {},
   "source": [
    "### Steps:"
   ]
  },
  {
   "cell_type": "markdown",
   "metadata": {},
   "source": [
    "1. Imports PDF\n",
    "2. Creates an array of the WEF skills to search the handbook for\n",
    "3. Defines a function that counts the number of instances of a word. (function's arguments are the word, the handbook, number of pages to scan)\n",
    "4. Defines a function that loops through all words in the WEF skills array, and pass them through the function in 3\n",
    "5. Defines function that takes the results from 4 and creates a plot of the frenquency of each of the words that occured at least once"
   ]
  },
  {
   "cell_type": "markdown",
   "metadata": {},
   "source": [
    "### Import packages for reading PDFs, and creating plots"
   ]
  },
  {
   "cell_type": "code",
   "execution_count": 4,
   "metadata": {},
   "outputs": [
    {
     "name": "stdout",
     "output_type": "stream",
     "text": [
      "Requirement already satisfied: PyPDF2 in /anaconda3/envs/transdictor/lib/python3.6/site-packages (1.26.0)\n",
      "Note: you may need to restart the kernel to use updated packages.\n"
     ]
    }
   ],
   "source": [
    "pip install PyPDF2"
   ]
  },
  {
   "cell_type": "code",
   "execution_count": 314,
   "metadata": {},
   "outputs": [],
   "source": [
    "import PyPDF2 as ppdf\n",
    "import re\n",
    "import numpy as np\n",
    "import pandas as pd\n",
    "import matplotlib.pyplot as plt\n",
    "import warnings\n",
    "\n",
    "#The PDF reader throws a warning about the document indexing, filer out warnings\n",
    "with warnings.catch_warnings():\n",
    "    warnings.simplefilter(\"ignore\")"
   ]
  },
  {
   "cell_type": "markdown",
   "metadata": {},
   "source": [
    "### Open file and save to a variable"
   ]
  },
  {
   "cell_type": "markdown",
   "metadata": {},
   "source": [
    "The first file is the University of Cape Town Commerce faculty handbook"
   ]
  },
  {
   "cell_type": "code",
   "execution_count": 319,
   "metadata": {},
   "outputs": [],
   "source": [
    "PDFfile = open('/Users/nyasha.chigwaja/Documents/uct_commerce_faculty.pdf',\"rb\")"
   ]
  },
  {
   "cell_type": "code",
   "execution_count": 320,
   "metadata": {},
   "outputs": [],
   "source": [
    "uct_commerce = ppdf.PdfFileReader(PDFfile)"
   ]
  },
  {
   "cell_type": "markdown",
   "metadata": {},
   "source": [
    "### Get document information"
   ]
  },
  {
   "cell_type": "code",
   "execution_count": 321,
   "metadata": {},
   "outputs": [
    {
     "name": "stdout",
     "output_type": "stream",
     "text": [
      "{'/Author': '01357572', '/CreationDate': \"D:20191224075746+02'00'\", '/Creator': 'PScript5.dll Version 5.2.2', '/ModDate': \"D:20191224090614+02'00'\", '/Producer': 'Acrobat Distiller 19.0 (Windows)', '/Title': 'Microsoft Word - 2020_COM_UG_handbook 2nd build'}\n"
     ]
    }
   ],
   "source": [
    "print(uct_commerce.getDocumentInfo())"
   ]
  },
  {
   "cell_type": "markdown",
   "metadata": {},
   "source": [
    "### Extract first page of PDF and display"
   ]
  },
  {
   "cell_type": "code",
   "execution_count": 326,
   "metadata": {},
   "outputs": [],
   "source": [
    "first_page = uct_commerce.getPage(1)"
   ]
  },
  {
   "cell_type": "code",
   "execution_count": 327,
   "metadata": {},
   "outputs": [
    {
     "name": "stdout",
     "output_type": "stream",
     "text": [
      "The University has made every effort to ensure the accuracy of the information in its handbooks. However, we reserve the right at any time, if cir\n",
      "cumstances dictate (for example, if there are not \n",
      "sufficient students registered), to (i)make alterations or change\n",
      "s to any of the published details of the opportunities on offer; or (ii)add to or withdraw any \n",
      "of the opportunities on offer. Our students are given every assurance that changes to opportunities will only be made undercompelling circumstances and students will be fully informed as soon as possible.\n"
     ]
    }
   ],
   "source": [
    "print(first_page.extractText())"
   ]
  },
  {
   "cell_type": "markdown",
   "metadata": {},
   "source": [
    "### Create an array of words to check for according to the WEF report - Top 10 skills"
   ]
  },
  {
   "cell_type": "code",
   "execution_count": 328,
   "metadata": {},
   "outputs": [],
   "source": [
    "#To do: Check if there is a NLP function that will find words \n",
    "#which are similar to these and add them to the dictionary\n",
    "WEF_identified_skills = ['complex',\n",
    "                         'problem',\n",
    "                         'solving',\n",
    "                         'complex-problem solving',\n",
    "                         'cognitive flexibility',\n",
    "                         'critical',\n",
    "                         'thinking',\n",
    "                         'critical thinking',\n",
    "                         'creativity',\n",
    "                         'people',\n",
    "                         'management',\n",
    "                         'service orientation',\n",
    "                         'judgement and decision making',\n",
    "                         'coordinating with others',\n",
    "                         'service orientation',\n",
    "                         'coordinating',\n",
    "                         'cooridination',\n",
    "                         'negotiation',\n",
    "                         'emotional',\n",
    "                         'intelligence',\n",
    "                         'judgement',\n",
    "                         'decision',\n",
    "                         'decision making',\n",
    "                         'cognitive',\n",
    "                         'flexibility',\n",
    "                         'problem-solving',\n",
    "                        'people management']"
   ]
  },
  {
   "cell_type": "code",
   "execution_count": 333,
   "metadata": {},
   "outputs": [],
   "source": [
    "def count_occurence(number_of_pages,word_to_scan,pdf_to_scan):\n",
    "    \"\"\" This function scans all pages of a given PDF for the occurence of a word.\n",
    "    Each time the word is encountered the counter is incremented by 1, the final count is returned\"\"\"\n",
    "    i = 0\n",
    "    word_count = 0\n",
    "    while i < number_of_pages:\n",
    "        pageinfo = pdf_to_scan.getPage(i)\n",
    "        obj = pageinfo.extractText()\n",
    "        i = i +1\n",
    "        word_count_this_page = len(re.findall(word_to_scan,obj,re.MULTILINE))\n",
    "        word_count = word_count + word_count_this_page\n",
    "        #print(word_count)\n",
    "    return word_count"
   ]
  },
  {
   "cell_type": "markdown",
   "metadata": {},
   "source": [
    "### Test the function with a common word"
   ]
  },
  {
   "cell_type": "code",
   "execution_count": 342,
   "metadata": {},
   "outputs": [
    {
     "name": "stdout",
     "output_type": "stream",
     "text": [
      "The word the occurs 4592 times in the commerce faculty handbook\n"
     ]
    }
   ],
   "source": [
    "number_of_pages = uct_commerce.getNumPages()\n",
    "print('The word the occurs',\n",
    "      count_occurence(number_of_pages,\"the\",uct_commerce),\n",
    "      'times in the commerce faculty handbook')"
   ]
  },
  {
   "cell_type": "markdown",
   "metadata": {},
   "source": [
    "### Now count occurence of each word in the entire PDF"
   ]
  },
  {
   "cell_type": "code",
   "execution_count": 343,
   "metadata": {},
   "outputs": [],
   "source": [
    "word_counts = []\n",
    "for i in WEF_identified_skills:\n",
    "    \"\"\"For every word in the WEF skills list loop through each page of the document and count its occurence,\n",
    "    append the final word count for each word in an array\"\"\"\n",
    "    count_is = count_occurence(number_of_pages,\n",
    "                               i,\n",
    "                               uct_commerce)\n",
    "    word_counts.append(count_is)\n",
    "    #print(count_is)"
   ]
  },
  {
   "cell_type": "code",
   "execution_count": null,
   "metadata": {},
   "outputs": [],
   "source": [
    "### Plot the results"
   ]
  },
  {
   "cell_type": "code",
   "execution_count": 347,
   "metadata": {},
   "outputs": [],
   "source": [
    "def plot_frequency():\n",
    "    df = pd.DataFrame({'x':WEF_identified_skills,'y':word_counts})\n",
    "    df_trimmed = df[df.y > 0]\n",
    "    df_trimmed.sort_values(by='y')\n",
    "    plt.scatter(x=df_trimmed.x,y=df_trimmed.y)\n",
    "    plt.tick_params(axis=\"x\", labelsize=10)\n",
    "    plt.xticks(rotation=45, ha=\"right\")\n",
    "    plt.title('Count of the number of instances of WEF skills in faculty handbook')\n",
    "    plt.show()"
   ]
  },
  {
   "cell_type": "code",
   "execution_count": 348,
   "metadata": {},
   "outputs": [
    {
     "data": {
      "image/png": "[encoded data removed]",
      "text/plain": [
       "<Figure size 432x288 with 1 Axes>"
      ]
     },
     "metadata": {
      "needs_background": "light"
     },
     "output_type": "display_data"
    }
   ],
   "source": [
    "plot_frequency()"
   ]
  },
  {
   "cell_type": "markdown",
   "metadata": {},
   "source": [
    "### Engineering faculty"
   ]
  },
  {
   "cell_type": "code",
   "execution_count": 349,
   "metadata": {},
   "outputs": [],
   "source": [
    "PDFfile2 = open('/Users/nyasha.chigwaja/Documents/uct_engineering_faculty.pdf',\"rb\")"
   ]
  },
  {
   "cell_type": "code",
   "execution_count": 350,
   "metadata": {},
   "outputs": [
    {
     "name": "stderr",
     "output_type": "stream",
     "text": [
      "PdfReadWarning: Xref table not zero-indexed. ID numbers for objects will be corrected. [pdf.py:1736]\n"
     ]
    }
   ],
   "source": [
    "uct_engineering = ppdf.PdfFileReader(PDFfile2)"
   ]
  },
  {
   "cell_type": "code",
   "execution_count": 351,
   "metadata": {},
   "outputs": [
    {
     "name": "stdout",
     "output_type": "stream",
     "text": [
      "{'/Author': '01416102', '/CreationDate': \"D:20191125191528+02'00'\", '/Creator': 'PScript5.dll Version 5.2.2', '/ModDate': \"D:20191217103846+02'00'\", '/Producer': 'Acrobat Distiller 15.0 (Windows)', '/Title': 'Microsoft Word - 2020_EBE_PG_handbook_second draft_Final working copy'}\n"
     ]
    }
   ],
   "source": [
    "print(uct_engineering.getDocumentInfo())"
   ]
  },
  {
   "cell_type": "code",
   "execution_count": 352,
   "metadata": {},
   "outputs": [
    {
     "name": "stdout",
     "output_type": "stream",
     "text": [
      "The number of pages in this PDF is: 265\n"
     ]
    }
   ],
   "source": [
    "# get the number of pages in the PDF\n",
    "number_of_pages = uct_engineering.getNumPages()\n",
    "print('The number of pages in this PDF is:',number_of_pages)"
   ]
  },
  {
   "cell_type": "code",
   "execution_count": 353,
   "metadata": {},
   "outputs": [],
   "source": [
    "word_counts = []\n",
    "for i in WEF_identified_skills:\n",
    "    count_is = count_occurence(number_of_pages,\n",
    "                               i,\n",
    "                               uct_engineering)\n",
    "    word_counts.append(count_is)\n",
    "    #print(count_is)"
   ]
  },
  {
   "cell_type": "code",
   "execution_count": 354,
   "metadata": {},
   "outputs": [
    {
     "data": {
      "image/png": "[encoded data removed]",
      "text/plain": [
       "<Figure size 432x288 with 1 Axes>"
      ]
     },
     "metadata": {
      "needs_background": "light"
     },
     "output_type": "display_data"
    }
   ],
   "source": [
    "plot_frequency()"
   ]
  },
  {
   "cell_type": "markdown",
   "metadata": {},
   "source": [
    "### Health Sciences faculty"
   ]
  },
  {
   "cell_type": "markdown",
   "metadata": {},
   "source": [
    "#### Import the pdf"
   ]
  },
  {
   "cell_type": "code",
   "execution_count": 355,
   "metadata": {},
   "outputs": [],
   "source": [
    "PDFfile3 = open('/Users/nyasha.chigwaja/Documents/uct_healthsciences_faculty.pdf',\"rb\")"
   ]
  },
  {
   "cell_type": "code",
   "execution_count": 356,
   "metadata": {},
   "outputs": [
    {
     "name": "stderr",
     "output_type": "stream",
     "text": [
      "PdfReadWarning: Xref table not zero-indexed. ID numbers for objects will be corrected. [pdf.py:1736]\n"
     ]
    }
   ],
   "source": [
    "uct_health = ppdf.PdfFileReader(PDFfile3)"
   ]
  },
  {
   "cell_type": "markdown",
   "metadata": {},
   "source": [
    "#### Get document information"
   ]
  },
  {
   "cell_type": "code",
   "execution_count": 357,
   "metadata": {},
   "outputs": [
    {
     "name": "stdout",
     "output_type": "stream",
     "text": [
      "{'/Author': '01447290', '/CreationDate': \"D:20191121132635+02'00'\", '/Creator': 'PScript5.dll Version 5.2.2', '/ModDate': \"D:20191128121300+02'00'\", '/Producer': 'Acrobat Distiller 15.0 (Windows)', '/Title': 'Microsoft Word - 2020_FHS_PG_handbook FINAL 21112019.xml'}\n"
     ]
    }
   ],
   "source": [
    "print(uct_health.getDocumentInfo())"
   ]
  },
  {
   "cell_type": "markdown",
   "metadata": {},
   "source": [
    "#### Print first page"
   ]
  },
  {
   "cell_type": "code",
   "execution_count": 358,
   "metadata": {},
   "outputs": [],
   "source": [
    "first_page = uct_health.getPage(4)"
   ]
  },
  {
   "cell_type": "code",
   "execution_count": 359,
   "metadata": {},
   "outputs": [
    {
     "name": "stdout",
     "output_type": "stream",
     "text": [
      " Clinical Pharmacology ........................................................................................................... 10 African Emergency Care ......................................................................................................... 10 Clinical Emergency Care ........................................................................................................ 1 Disaster Medicine ................................................................................................................... 1Patient Safety and Clinical Decision-making (A) ................................................................... 1Patient Safety and Clinical Decision-making (B) ................................................................... 1 Health Innovation .................................................................................................................... 11 Intellectual Disability .............................................................................................................. 114 Liaison Mental Health ........................................................................................................\n",
      "..... 115Maternal and Child Health ....................................................................................................\n",
      ". 116 Occupational\n",
      " Health ..........................................................................................................\n",
      "..... 117Paediatric Forensic Pathology ............................................................................................... \n",
      "117 Paediatric Pathology .........................................................................................................\n",
      "...... 118 Palliative Medicine ................................................................................................................. 119Sport and Exercise Medicine ..................................................................................................\n",
      ". 119 For sub-speciality\n",
      " purposes, in ..............................................................................................\n",
      ". 121Addictions Mental Health .....................................................................................................\n",
      "... 124 Advanced Hepatology and \n",
      "Transplantation ............................................................................ 124\n",
      " Allergology .............................................................................................................................. 12 Cardiology ...................................................................................................................\n",
      "............ 125Child and Adolescent Psychiatry ............................................................................................ 12 Clinical Haematology ............................................................................................................. 12 Critical Care ........................................................................................................................... 127 Developmental Paediatrics ....................................................................................................\n",
      ". 127 Endocrinology ......................................................................................................................... 128 Forensic Mental Health .......................................................................................................\n",
      "... 128 Geriatric Medicine ...........................................................................................................\n",
      "....... 129 Gynaecologica\n",
      "l Oncology ......................................................................................................\n",
      ". 129 Infectious Disease \n",
      "and HIV Medicine ..................................................................................... 130\n",
      "Maternal and Foetal Medicine ................................................................................................ \n",
      "130 Medical Gastroenterology .....................................................................................................\n",
      ".. 130 Neonatology ..................................................................................................................\n",
      ".......... 131 Nephrology ...................................................................................................................\n",
      "........... 131 Neuropsychiatry ..............................................................................................................\n",
      "........ 131 Paediatric \n",
      "Cardiology ........................................................................................................\n",
      "..... 132Paediatric Critical Care .....................................................................................................\n",
      "..... 132 Paediatric \n",
      "Endocrinology ....................................................................................................... 132 Paediatric Gastroenterology ................................................................................................... 13 Paediatric Infectious Diseases ...............................................................................................\n",
      ". 133 Paediatric \n",
      "Nephrology ............................................................................................................ 133 Paediatric Neurology .............................................................................................................. 13 Paediatric Oncology ..........................................................................................................\n",
      "..... 134 Paediatric Pulmonology .......................................................................................................... 134 Paediatric Rheumatology ........................................................................................................ 13 Pulmonology ........................................................................................................................... 135 Reproductive Medicine ............................................................................................................ 135 Rheumatology .......................................................................................................................... 13 Surgical Gastroenterology ....................................................................................................\n",
      ".. 136 Trauma Surgery....................................................................................................................... 136 Urogynaecology ...................................................................................................................... 13 Vascular \n",
      "Surgery ..................................................................................................................... 137\n",
      "\n",
      "\n",
      "\n",
      "\n",
      "\n"
     ]
    }
   ],
   "source": [
    "print(first_page.extractText())"
   ]
  },
  {
   "cell_type": "markdown",
   "metadata": {},
   "source": [
    "#### Retrieve word count from WEF skills array"
   ]
  },
  {
   "cell_type": "code",
   "execution_count": 360,
   "metadata": {},
   "outputs": [
    {
     "name": "stdout",
     "output_type": "stream",
     "text": [
      "The number of pages in this PDF is: 552\n"
     ]
    }
   ],
   "source": [
    "# get the number of pages in the PDF\n",
    "number_of_pages = uct_health.getNumPages()\n",
    "print('The number of pages in this PDF is:',number_of_pages)"
   ]
  },
  {
   "cell_type": "code",
   "execution_count": 361,
   "metadata": {},
   "outputs": [],
   "source": [
    "word_counts = []\n",
    "for i in WEF_identified_skills:\n",
    "    count_is = count_occurence(number_of_pages,\n",
    "                               i,\n",
    "                               uct_health)\n",
    "    word_counts.append(count_is)\n",
    "    #print(count_is)"
   ]
  },
  {
   "cell_type": "markdown",
   "metadata": {},
   "source": [
    "#### Plot the frequencies"
   ]
  },
  {
   "cell_type": "code",
   "execution_count": 362,
   "metadata": {},
   "outputs": [
    {
     "data": {
      "image/png": "[encoded data removed]",
      "text/plain": [
       "<Figure size 432x288 with 1 Axes>"
      ]
     },
     "metadata": {
      "needs_background": "light"
     },
     "output_type": "display_data"
    }
   ],
   "source": [
    "plot_frequency()"
   ]
  },
  {
   "cell_type": "markdown",
   "metadata": {},
   "source": [
    "### Law faculty"
   ]
  },
  {
   "cell_type": "code",
   "execution_count": 285,
   "metadata": {},
   "outputs": [],
   "source": [
    "PDFfile4 = open('/Users/nyasha.chigwaja/Documents/uct_law_faculty.pdf',\"rb\")"
   ]
  },
  {
   "cell_type": "code",
   "execution_count": 286,
   "metadata": {},
   "outputs": [],
   "source": [
    "uct_law = ppdf.PdfFileReader(PDFfile4)"
   ]
  },
  {
   "cell_type": "code",
   "execution_count": 287,
   "metadata": {},
   "outputs": [
    {
     "name": "stdout",
     "output_type": "stream",
     "text": [
      "{'/Author': '01420756', '/CreationDate': \"D:20191121162937+02'00'\", '/Creator': 'PScript5.dll Version 5.2.2', '/ModDate': \"D:20191204120032+02'00'\", '/Producer': 'Acrobat Distiller 10.1.14 (Windows)', '/Title': 'Microsoft Word - 2020_LAW_handbook_final'}\n"
     ]
    }
   ],
   "source": [
    "print(uct_law.getDocumentInfo())"
   ]
  },
  {
   "cell_type": "code",
   "execution_count": 288,
   "metadata": {},
   "outputs": [
    {
     "name": "stdout",
     "output_type": "stream",
     "text": [
      "The number of pages in this PDF is: 206\n"
     ]
    }
   ],
   "source": [
    "# get the number of pages in the PDF\n",
    "number_of_pages = uct_law.getNumPages()\n",
    "print('The number of pages in this PDF is:',number_of_pages)"
   ]
  },
  {
   "cell_type": "code",
   "execution_count": 284,
   "metadata": {},
   "outputs": [],
   "source": [
    "word_counts = []\n",
    "for i in WEF_identified_skills:\n",
    "    count_is = count_occurence(number_of_pages,\n",
    "                               i,\n",
    "                               uct_law)\n",
    "    word_counts.append(count_is)\n",
    "    #print(count_is)"
   ]
  },
  {
   "cell_type": "code",
   "execution_count": 289,
   "metadata": {},
   "outputs": [
    {
     "data": {
      "image/png": "[encoded data removed]",
      "text/plain": [
       "<Figure size 432x288 with 1 Axes>"
      ]
     },
     "metadata": {
      "needs_background": "light"
     },
     "output_type": "display_data"
    }
   ],
   "source": [
    "plot_frequency()"
   ]
  },
  {
   "cell_type": "markdown",
   "metadata": {},
   "source": [
    "### Humanities faculty"
   ]
  },
  {
   "cell_type": "code",
   "execution_count": 363,
   "metadata": {},
   "outputs": [],
   "source": [
    "PDFfile5 = open('/Users/nyasha.chigwaja/Documents/uct_humanities_handbook.pdf',\"rb\")"
   ]
  },
  {
   "cell_type": "code",
   "execution_count": 364,
   "metadata": {},
   "outputs": [],
   "source": [
    "uct_humanities = ppdf.PdfFileReader(PDFfile5)"
   ]
  },
  {
   "cell_type": "code",
   "execution_count": 365,
   "metadata": {},
   "outputs": [
    {
     "name": "stdout",
     "output_type": "stream",
     "text": [
      "{'/Author': '01416102', '/CreationDate': \"D:20191203160955+02'00'\", '/Creator': 'PScript5.dll Version 5.2.2', '/ModDate': \"D:20191217114952+02'00'\", '/Producer': 'Acrobat Distiller 19.0 (Windows)', '/Title': 'Microsoft Word - 2020_HUM_PG_handbook_second draft_Final working copy'}\n"
     ]
    }
   ],
   "source": [
    "print(uct_humanities.getDocumentInfo())"
   ]
  },
  {
   "cell_type": "code",
   "execution_count": 366,
   "metadata": {},
   "outputs": [
    {
     "name": "stdout",
     "output_type": "stream",
     "text": [
      "The number of pages in this PDF is: 469\n"
     ]
    }
   ],
   "source": [
    "# get the number of pages in the PDF\n",
    "number_of_pages = uct_humanities.getNumPages()\n",
    "print('The number of pages in this PDF is:',number_of_pages)"
   ]
  },
  {
   "cell_type": "code",
   "execution_count": null,
   "metadata": {},
   "outputs": [],
   "source": [
    "word_counts = []\n",
    "for i in WEF_identified_skills:\n",
    "    count_is = count_occurence(number_of_pages,\n",
    "                               i,\n",
    "                               uct_humanities)\n",
    "    word_counts.append(count_is)\n",
    "    #print(count_is)"
   ]
  },
  {
   "cell_type": "code",
   "execution_count": null,
   "metadata": {},
   "outputs": [],
   "source": [
    "plot_frequency()"
   ]
  },
  {
   "cell_type": "code",
   "execution_count": null,
   "metadata": {},
   "outputs": [],
   "source": []
  }
 ],
 "metadata": {
  "kernelspec": {
   "display_name": "Python 3",
   "language": "python",
   "name": "python3"
  },
  "language_info": {
   "codemirror_mode": {
    "name": "ipython",
    "version": 3
   },
   "file_extension": ".py",
   "mimetype": "text/x-python",
   "name": "python",
   "nbconvert_exporter": "python",
   "pygments_lexer": "ipython3",
   "version": "3.6.1"
  }
 },
 "nbformat": 4,
 "nbformat_minor": 2
}
